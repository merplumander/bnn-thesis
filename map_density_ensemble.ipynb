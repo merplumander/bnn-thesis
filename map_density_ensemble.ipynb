{
 "cells": [
  {
   "cell_type": "code",
   "execution_count": null,
   "metadata": {},
   "outputs": [],
   "source": [
    "%load_ext autoreload\n",
    "%autoreload 2\n",
    "import os\n",
    "import numpy as np\n",
    "import matplotlib.pyplot as plt\n",
    "import seaborn as sns\n",
    "from sklearn import preprocessing\n",
    "import tensorflow as tf\n",
    "import tensorflow_probability as tfp\n",
    "tfd = tfp.distributions\n",
    "\n",
    "from data.toy_regression import create_split_periodic_data_heteroscedastic, ground_truth_periodic_function\n",
    "from core import MapDensityEnsemble\n",
    "from core.preprocessing import preprocess_create_x_train_test"
   ]
  },
  {
   "cell_type": "code",
   "execution_count": null,
   "metadata": {},
   "outputs": [],
   "source": [
    "assert tf.executing_eagerly()\n",
    "\n",
    "figure_dir = './figures'"
   ]
  },
  {
   "cell_type": "code",
   "execution_count": null,
   "metadata": {},
   "outputs": [],
   "source": [
    "np.random.seed(0)\n",
    "n_networks = 5\n",
    "n_train = 20\n",
    "batchsize_train = 20\n",
    "\n",
    "# train and test variables beginning with an underscore are unprocessed.\n",
    "_x_train, y_train = create_split_periodic_data_heteroscedastic(n_train=n_train, seed=42)\n",
    "x_train, _x_test, x_test = preprocess_create_x_train_test(_x_train)\n",
    "y_test = ground_truth_periodic_function(_x_test)\n",
    "\n",
    "layer_units = [500] * 4 + [2]\n",
    "layer_activations = [\"relu\"] * 4 + [\"linear\"]"
   ]
  },
  {
   "cell_type": "code",
   "execution_count": null,
   "metadata": {},
   "outputs": [],
   "source": [
    "fig, ax = plt.subplots()\n",
    "ax.plot(_x_test, y_test, label=\"Ground truth\", alpha=0.1)\n",
    "ax.scatter(_x_train, y_train, label=\"Train data\")\n",
    "ax.set_xlabel(\"\");\n",
    "ax.set_ylabel(\"\");\n",
    "ax.legend();"
   ]
  },
  {
   "cell_type": "code",
   "execution_count": null,
   "metadata": {},
   "outputs": [],
   "source": [
    "ensemble = MapDensityEnsemble(n_networks=n_networks,\n",
    "                       input_shape=[1],\n",
    "                       layer_units=layer_units,\n",
    "                       layer_activations=layer_activations)"
   ]
  },
  {
   "cell_type": "code",
   "execution_count": null,
   "metadata": {},
   "outputs": [],
   "source": [
    "ensemble.train(x_train=x_train, y_train=y_train, batchsize_train=batchsize_train, epochs=120)"
   ]
  },
  {
   "cell_type": "code",
   "execution_count": null,
   "metadata": {},
   "outputs": [],
   "source": [
    "mean, std = ensemble.predict(x_test)\n",
    "\n",
    "fig, ax = plt.subplots(figsize=(8, 8))\n",
    "ax.plot(_x_test, y_test, label=\"Ground truth\", alpha=0.1)\n",
    "ax.plot(_x_test, mean, label=f\"Mean prediction\", alpha=0.8)\n",
    "ax.fill_between(_x_test.flatten(), mean.flatten() - 2 * std.flatten(), mean.flatten() + 2 * std.flatten(), alpha=0.2, label=\"95% HDR prediction\")\n",
    "ax.scatter(_x_train, y_train, c='k', marker='x', s=100, label=\"Train data\")\n",
    "ax.set_xlabel(\"\");\n",
    "ax.set_ylabel(\"\");\n",
    "ax.set_ylim([-5, 5])\n",
    "ax.legend();\n",
    "#fig.savefig(os.path.join(figure_dir, f\"{n_networks}_ml_density_ensemble_gaussian_heteroscedastic.pdf\"))"
   ]
  },
  {
   "cell_type": "code",
   "execution_count": null,
   "metadata": {},
   "outputs": [],
   "source": [
    "means, stds = ensemble.predict_mixture_of_gaussian(x_test)\n",
    "\n",
    "fig, ax = plt.subplots(figsize=(8, 8))\n",
    "for i, (mean, std) in enumerate(zip(means, stds)):\n",
    "    c = sns.color_palette()[i]\n",
    "    ax.plot(_x_test, mean, label=f\"Mean prediction\", c=c, alpha=0.8)\n",
    "    ax.fill_between(_x_test.flatten(), mean.flatten() - 2 * std.flatten(), mean.flatten() + 2 * std.flatten(), color=c, alpha=0.2, label=\"95% HDR prediction\")\n",
    "ax.plot(_x_test, y_test, label=\"Ground truth\", alpha=0.1)\n",
    "ax.scatter(_x_train, y_train, c='k', marker='x', s=100, label=\"Train data\")\n",
    "ax.set_xlabel(\"\");\n",
    "ax.set_ylabel(\"\");\n",
    "ax.set_ylim([-5, 5])\n",
    "ax.legend();\n",
    "#fig.savefig(os.path.join(figure_dir, f\"{n_networks}_ml_density_ensemble_mixture_of_gaussian_heteroscedastic.pdf\"))"
   ]
  },
  {
   "cell_type": "code",
   "execution_count": null,
   "metadata": {},
   "outputs": [],
   "source": [
    "mean, std = ensemble.predict(x_test)\n",
    "\n",
    "fig, ax = plt.subplots(figsize=(8, 8))\n",
    "ax.plot(_x_test, y_test, label=\"Ground truth\", c='k', alpha=0.1)\n",
    "c = sns.color_palette()[0]\n",
    "ax.plot(_x_test, mean, label=f\"Mean prediction\", c=c, alpha=1)\n",
    "ax.fill_between(_x_test.flatten(), mean.flatten() - 2 * std.flatten(), mean.flatten() + 2 * std.flatten(), color=c, alpha=0.2, label=\"95% HDR prediction\")\n",
    "means, stds = ensemble.predict_mixture_of_gaussian(x_test)\n",
    "c = sns.color_palette()[1]\n",
    "for i, (mean, std) in enumerate(zip(means[:-1], stds[:-1])):\n",
    "    ax.plot(_x_test, mean, c=c, alpha=0.5)\n",
    "ax.plot(_x_test, means[-1], label=f\"Function samples\", c=c, alpha=0.5)\n",
    "ax.scatter(_x_train, y_train, c='k', marker='x', s=100, label=\"Train data\")\n",
    "ax.set_xlabel(\"\");\n",
    "ax.set_ylabel(\"\");\n",
    "ax.set_ylim([-5, 5])\n",
    "ax.legend();\n",
    "#fig.savefig(os.path.join(figure_dir, f\"{n_networks}_ml_density_ensemble_gaussian_samples_heteroscedastic.pdf\"))"
   ]
  },
  {
   "cell_type": "code",
   "execution_count": null,
   "metadata": {},
   "outputs": [],
   "source": []
  },
  {
   "cell_type": "code",
   "execution_count": null,
   "metadata": {},
   "outputs": [],
   "source": []
  },
  {
   "cell_type": "code",
   "execution_count": null,
   "metadata": {},
   "outputs": [],
   "source": []
  }
 ],
 "metadata": {
  "kernelspec": {
   "display_name": "Python 3",
   "language": "python",
   "name": "python3"
  },
  "language_info": {
   "codemirror_mode": {
    "name": "ipython",
    "version": 3
   },
   "file_extension": ".py",
   "mimetype": "text/x-python",
   "name": "python",
   "nbconvert_exporter": "python",
   "pygments_lexer": "ipython3",
   "version": "3.6.5"
  }
 },
 "nbformat": 4,
 "nbformat_minor": 4
}
